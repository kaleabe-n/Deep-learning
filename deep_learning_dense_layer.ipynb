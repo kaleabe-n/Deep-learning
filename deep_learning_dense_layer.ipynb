{
  "nbformat": 4,
  "nbformat_minor": 0,
  "metadata": {
    "colab": {
      "provenance": []
    },
    "kernelspec": {
      "name": "python3",
      "display_name": "Python 3"
    },
    "language_info": {
      "name": "python"
    }
  },
  "cells": [
    {
      "cell_type": "code",
      "source": [
        "import torch"
      ],
      "metadata": {
        "id": "4FmRfWlGwKz6"
      },
      "execution_count": 10,
      "outputs": []
    },
    {
      "cell_type": "code",
      "execution_count": 11,
      "metadata": {
        "id": "-PTChgsQvzUx"
      },
      "outputs": [],
      "source": [
        "class DenseLayer:\n",
        "\n",
        "    def __init__(self,n_features, n_neurons):\n",
        "        self.weights = torch.rand((n_features,n_neurons))\n",
        "        self.bias = torch.rand(n_neurons)\n",
        "\n",
        "    def forward(self,inputs):\n",
        "        self.output = torch.matmul(inputs,self.weights) + self.bias\n",
        "\n",
        ""
      ]
    },
    {
      "cell_type": "code",
      "source": [
        "input = torch.rand((50,5))"
      ],
      "metadata": {
        "id": "k4T_etYpwHmb"
      },
      "execution_count": 12,
      "outputs": []
    },
    {
      "cell_type": "code",
      "source": [
        "layer1 = DenseLayer(5,16)\n",
        "layer1.forward(input)\n",
        "layer1.output.shape"
      ],
      "metadata": {
        "colab": {
          "base_uri": "https://localhost:8080/"
        },
        "id": "f6I5MPDIwiy6",
        "outputId": "dd32d9b1-32f0-4e85-c2d7-72c93d833734"
      },
      "execution_count": 13,
      "outputs": [
        {
          "output_type": "execute_result",
          "data": {
            "text/plain": [
              "torch.Size([50, 16])"
            ]
          },
          "metadata": {},
          "execution_count": 13
        }
      ]
    },
    {
      "cell_type": "code",
      "source": [
        "layer2 = DenseLayer(16,16)\n",
        "layer2.forward(layer1.output)\n",
        "layer2.output.shape"
      ],
      "metadata": {
        "colab": {
          "base_uri": "https://localhost:8080/"
        },
        "id": "KbYp1SLewkYn",
        "outputId": "28856cb4-f9f6-4a24-e03e-d78d108e2593"
      },
      "execution_count": 14,
      "outputs": [
        {
          "output_type": "execute_result",
          "data": {
            "text/plain": [
              "torch.Size([50, 16])"
            ]
          },
          "metadata": {},
          "execution_count": 14
        }
      ]
    },
    {
      "cell_type": "code",
      "source": [
        "layer3 = DenseLayer(16,16)\n",
        "layer3.forward(layer2.output)\n",
        "layer3.output.shape"
      ],
      "metadata": {
        "colab": {
          "base_uri": "https://localhost:8080/"
        },
        "id": "kcfUnzAgwubG",
        "outputId": "2b4a3f1e-d69b-4820-a58e-edd118b68387"
      },
      "execution_count": 15,
      "outputs": [
        {
          "output_type": "execute_result",
          "data": {
            "text/plain": [
              "torch.Size([50, 16])"
            ]
          },
          "metadata": {},
          "execution_count": 15
        }
      ]
    },
    {
      "cell_type": "code",
      "source": [
        "output_layer = DenseLayer(16,5)\n",
        "output_layer.forward(layer3.output)"
      ],
      "metadata": {
        "id": "zfEV-DaUw3sB"
      },
      "execution_count": 16,
      "outputs": []
    },
    {
      "cell_type": "code",
      "source": [
        "output_layer.output.shape"
      ],
      "metadata": {
        "colab": {
          "base_uri": "https://localhost:8080/"
        },
        "id": "jVF2zpUIxAI-",
        "outputId": "7e2b1561-df1f-42ea-e2c5-2808fb154419"
      },
      "execution_count": 17,
      "outputs": [
        {
          "output_type": "execute_result",
          "data": {
            "text/plain": [
              "torch.Size([50, 5])"
            ]
          },
          "metadata": {},
          "execution_count": 17
        }
      ]
    }
  ]
}