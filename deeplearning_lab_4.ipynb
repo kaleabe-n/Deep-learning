{
  "cells": [
    {
      "cell_type": "markdown",
      "metadata": {},
      "source": [
        "# Kaleabe Negussie UGR/3411/12"
      ]
    },
    {
      "cell_type": "markdown",
      "metadata": {
        "id": "revYlya0Et8C"
      },
      "source": [
        "## Dense layer (DenseLayer)"
      ]
    },
    {
      "cell_type": "code",
      "execution_count": 2,
      "metadata": {
        "id": "nZ_4kgyCEpDz"
      },
      "outputs": [],
      "source": [
        "class DenseLayer:\n",
        "\n",
        "    def __init__(self,n_features, n_neurons):\n",
        "        self.weights = torch.rand((n_features,n_neurons))\n",
        "        self.bias = torch.rand(n_neurons)\n",
        "\n",
        "    def forward(self,inputs):\n",
        "        self.output = torch.matmul(inputs,self.weights) + self.bias"
      ]
    },
    {
      "cell_type": "markdown",
      "metadata": {
        "id": "LA74vUTJEyKa"
      },
      "source": [
        "## Loss(Loss_Catagorical)"
      ]
    },
    {
      "cell_type": "code",
      "execution_count": 3,
      "metadata": {
        "id": "9VWXdGBBEz5F"
      },
      "outputs": [],
      "source": [
        "class Loss_Catagorical:\n",
        "    def __init__(self):\n",
        "        self.output = float('inf')\n",
        "    def forward(self,y_pred,y_true):\n",
        "        '''\n",
        "        takes two parameters y_pred:pytorch tensor the predicted outpurs\n",
        "        y_true: tensor as one hot notation or numbers as groups indexed from one\n",
        "        '''\n",
        "        if y_pred.shape !=  y_true.shape:\n",
        "            one_hot_notation = torch.zeros(y_pred.shape)\n",
        "            one_hot_notation[range(len(y_pred)),y_true] = 1\n",
        "        else:\n",
        "            one_hot_notation = y_pred\n",
        "        loss = -torch.sum(one_hot_notation * torch.log(y_pred)) / len(y_true)\n",
        "        self.output = loss\n",
        "        return loss"
      ]
    },
    {
      "cell_type": "markdown",
      "metadata": {
        "id": "TPeOe0kFE8TB"
      },
      "source": [
        "## Accuracy(Accuracy)"
      ]
    },
    {
      "cell_type": "code",
      "execution_count": 4,
      "metadata": {
        "id": "MPOlcKkzFOLi"
      },
      "outputs": [],
      "source": [
        "class Accuracy:\n",
        "    def __init__(self):\n",
        "        self.output = 0\n",
        "    def forward(self,y_pred,y_true):\n",
        "        if y_pred.shape != y_true.shape:\n",
        "            one_hot_notation = torch.zeros(y_pred.shape)\n",
        "            one_hot_notation[range(len(y_pred)),y_true] = 1\n",
        "        else:\n",
        "            one_hot_notation = y_true\n",
        "        correct_values = y_pred==one_hot_notation\n",
        "        correct_values = correct_values * one_hot_notation\n",
        "        self.output = torch.sum(correct_values) / len(y_pred)\n",
        "        return self.output"
      ]
    },
    {
      "cell_type": "markdown",
      "metadata": {
        "id": "8kGJnDd2FZyQ"
      },
      "source": [
        "## Activation sigmoid (Activation_Sigmoid)"
      ]
    },
    {
      "cell_type": "code",
      "execution_count": 5,
      "metadata": {
        "id": "OOpAI85oFcf_"
      },
      "outputs": [],
      "source": [
        "class Activation_Sigmoid:\n",
        "    def forward(self,inputs):\n",
        "        self.output = 1 / (1 + torch.exp(inputs*-1))\n",
        "        return self.output"
      ]
    },
    {
      "cell_type": "markdown",
      "metadata": {
        "id": "R9vRv97LFrqk"
      },
      "source": [
        "## Activation ReLU (Activation_ReLU)"
      ]
    },
    {
      "cell_type": "code",
      "execution_count": 6,
      "metadata": {
        "id": "ht7mVvVGFz5H"
      },
      "outputs": [],
      "source": [
        "class Activation_ReLU:\n",
        "    def forward(self,inputs):\n",
        "        self.output = torch.max(inputs,torch.tensor(0))\n",
        "        return self.output"
      ]
    },
    {
      "cell_type": "markdown",
      "metadata": {
        "id": "7dqLiO5NF2XG"
      },
      "source": [
        "## Model"
      ]
    },
    {
      "cell_type": "code",
      "execution_count": 97,
      "metadata": {
        "id": "060PytYAF0XJ"
      },
      "outputs": [],
      "source": [
        "class ClassificationModel:\n",
        "    def __init__(self,num_of_features:int,num_of_classes:int):\n",
        "        self.layer1 = DenseLayer(num_of_features,4)\n",
        "        self.activation1 = Activation_ReLU()\n",
        "        self.output_layer = DenseLayer(4,num_of_classes)\n",
        "        self.output_activation = Activation_Sigmoid()\n",
        "        self.accuracy = Accuracy()\n",
        "        self.errors = [float('inf')] * num_of_classes\n",
        "\n",
        "    def forward_propagate(self,inputs):\n",
        "        self.layer1.forward(inputs)\n",
        "        self.activation1.forward(self.layer1.output)\n",
        "        self.output_layer.forward(self.activation1.output)\n",
        "        self.output_activation.forward(self.output_layer.output)\n",
        "        self.inputs = inputs\n",
        "\n",
        "    def loss_and_accuracy(self,output):\n",
        "        self.true_value = output\n",
        "        if self.output_activation.output.shape != output.shape:\n",
        "            one_hot_notation = torch.zeros(self.output_activation.output.shape)\n",
        "            one_hot_notation[range(len(self.output_activation.output)),output] = 1\n",
        "            self.true_value = one_hot_notation\n",
        "\n",
        "        loss = ((self.true_value - self.output_layer.output) ** 2) / 2\n",
        "        loss = torch.mean(loss)\n",
        "        accuracy = self.accuracy.forward(self.output_layer.output,self.true_value)\n",
        "        return loss, accuracy\n",
        "\n",
        "\n",
        "    def back_prop(self,lr):\n",
        "        errors = -(self.true_value - self.output_layer.output) # d(y-output)/d(output)\n",
        "        avg_errors = torch.sum(errors,keepdims=True,dim=0) / len(errors)\n",
        "        avg_errors = torch.squeeze(avg_errors)\n",
        "        avg_outputs = torch.sum(self.output_activation.output,keepdims=True,dim=0) / len(self.output_activation.output)\n",
        "        avg_outputs = torch.squeeze(avg_outputs)\n",
        "        avg_act1_outputs = torch.sum(self.activation1.output,keepdims=True,dim=0) / len(self.activation1.output)\n",
        "        avg_act1_outputs = torch.squeeze(avg_act1_outputs)\n",
        "        avg_inputs = torch.sum(self.inputs,keepdims=True,dim=0) / len(self.inputs)\n",
        "        avg_inputs = torch.squeeze(avg_inputs)\n",
        "        avg_layer1_output = torch.sum(self.layer1.output,keepdims=True,dim=0) / len(self.layer1.output)\n",
        "        avg_layer1_output = torch.squeeze(avg_layer1_output)\n",
        "        back = [None] * 4\n",
        "        for j in range(4):\n",
        "            back[j] = torch.tensor(lr) * avg_errors[j] * (avg_outputs[j] * (1-avg_outputs[j]))\n",
        "        # second layer\n",
        "        for i in range(4):\n",
        "            self.output_layer.bias[i] -= back[i]\n",
        "            for j in range(4):\n",
        "                self.output_layer.weights[i][j] -= back[j] * avg_act1_outputs[i]\n",
        "\n",
        "\n",
        "        #first layer\n",
        "        for j in range(4):\n",
        "            for k in range(4):\n",
        "                self.layer1.bias[j] -= back[j] * self.output_layer.weights[j][k] * (1 if avg_layer1_output[j]>0 else 0)\n",
        "                for i in range(2):\n",
        "                    self.layer1.weights[i][j] -= back[k] * self.output_layer.weights[j][k] * avg_inputs[i] * (1 if avg_layer1_output[j]>0 else 0)\n"
      ]
    },
    {
      "cell_type": "code",
      "execution_count": 102,
      "metadata": {
        "colab": {
          "base_uri": "https://localhost:8080/"
        },
        "id": "o6B4TJxaW91a",
        "outputId": "cbec7d4e-4049-476d-eb74-31b207cfc3bb"
      },
      "outputs": [
        {
          "name": "stdout",
          "output_type": "stream",
          "text": [
            "iterations: 389\n",
            "final output: tensor([[0.6711, 0.7722, 0.0998, 0.4448],\n",
            "        [0.6559, 0.7611, 0.0841, 0.4389],\n",
            "        [0.6375, 0.7914, 0.1185, 0.4803]])\n",
            "true vaues: tensor([[0., 1., 0., 0.],\n",
            "        [0., 1., 0., 0.],\n",
            "        [1., 0., 0., 0.]])\n",
            "accuracy: tensor(0.)\n",
            "final error: tensor(0.1000)\n"
          ]
        }
      ],
      "source": [
        "model = ClassificationModel(2,4)\n",
        "x = torch.tensor([[1,2],[3,4],[4,5]],dtype=torch.float)\n",
        "y = torch.tensor([1,1,0])\n",
        "model.forward_propagate(x)\n",
        "model.loss_and_accuracy(y)\n",
        "\n",
        "loss = 0.1\n",
        "error = float('inf')\n",
        "iterations = 0\n",
        "while loss < error:\n",
        "    iterations += 1\n",
        "    model.forward_propagate(x)\n",
        "    model.back_prop(0.01)\n",
        "    error,acc = model.loss_and_accuracy(y)\n",
        "\n",
        "print(\"iterations:\",iterations)\n",
        "print(\"final output:\",model.output_layer.output)\n",
        "print(\"true vaues:\",model.true_value)\n",
        "print(\"accuracy:\",acc)\n",
        "print(\"final error:\",error)\n"
      ]
    }
  ],
  "metadata": {
    "colab": {
      "provenance": []
    },
    "kernelspec": {
      "display_name": "Python 3",
      "name": "python3"
    },
    "language_info": {
      "name": "python"
    }
  },
  "nbformat": 4,
  "nbformat_minor": 0
}
