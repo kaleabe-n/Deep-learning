{
  "nbformat": 4,
  "nbformat_minor": 0,
  "metadata": {
    "colab": {
      "provenance": []
    },
    "kernelspec": {
      "name": "python3",
      "display_name": "Python 3"
    },
    "language_info": {
      "name": "python"
    }
  },
  "cells": [
    {
      "cell_type": "code",
      "execution_count": 17,
      "metadata": {
        "id": "gOgXRz1aEPAd"
      },
      "outputs": [],
      "source": [
        "import torch"
      ]
    },
    {
      "cell_type": "markdown",
      "source": [
        "## Dense layer (DenseLayer)"
      ],
      "metadata": {
        "id": "revYlya0Et8C"
      }
    },
    {
      "cell_type": "code",
      "source": [
        "class DenseLayer:\n",
        "\n",
        "    def __init__(self,n_features, n_neurons):\n",
        "        self.weights = torch.rand((n_features,n_neurons))\n",
        "        self.bias = torch.rand(n_neurons)\n",
        "\n",
        "    def forward(self,inputs):\n",
        "        self.output = torch.matmul(inputs,self.weights) + self.bias"
      ],
      "metadata": {
        "id": "nZ_4kgyCEpDz"
      },
      "execution_count": 18,
      "outputs": []
    },
    {
      "cell_type": "markdown",
      "source": [
        "## Accuracy(Accuracy)"
      ],
      "metadata": {
        "id": "TPeOe0kFE8TB"
      }
    },
    {
      "cell_type": "code",
      "source": [
        "class Accuracy:\n",
        "    def __init__(self):\n",
        "        self.output = 0\n",
        "    def forward(self,y_pred,y_true):\n",
        "        if y_pred.shape != y_true.shape:\n",
        "            one_hot_notation = torch.zeros(y_pred.shape)\n",
        "            one_hot_notation[range(len(y_pred)),y_true] = 1\n",
        "        else:\n",
        "            one_hot_notation = y_true\n",
        "        correct_values = y_pred==one_hot_notation\n",
        "        correct_values = correct_values * one_hot_notation\n",
        "        self.output = torch.sum(correct_values) / len(y_pred)\n",
        "        return self.output"
      ],
      "metadata": {
        "id": "MPOlcKkzFOLi"
      },
      "execution_count": 19,
      "outputs": []
    },
    {
      "cell_type": "markdown",
      "source": [
        "## Activation sigmoid (Activation_Sigmoid)"
      ],
      "metadata": {
        "id": "8kGJnDd2FZyQ"
      }
    },
    {
      "cell_type": "code",
      "source": [
        "class Activation_Sigmoid:\n",
        "    def forward(self,inputs):\n",
        "        self.output = 1 / (1 + torch.exp(inputs*-1))\n",
        "        return self.output"
      ],
      "metadata": {
        "id": "OOpAI85oFcf_"
      },
      "execution_count": 20,
      "outputs": []
    },
    {
      "cell_type": "markdown",
      "source": [
        "## Activation ReLU (Activation_ReLU)"
      ],
      "metadata": {
        "id": "R9vRv97LFrqk"
      }
    },
    {
      "cell_type": "code",
      "source": [
        "class Activation_ReLU:\n",
        "    def forward(self,inputs):\n",
        "        self.output = torch.max(inputs,torch.tensor(0))\n",
        "        return self.output"
      ],
      "metadata": {
        "id": "ht7mVvVGFz5H"
      },
      "execution_count": 21,
      "outputs": []
    },
    {
      "cell_type": "markdown",
      "source": [
        "## Model"
      ],
      "metadata": {
        "id": "7dqLiO5NF2XG"
      }
    },
    {
      "cell_type": "code",
      "source": [
        "class ClassificationModel:\n",
        "    def __init__(self,num_of_features:int,num_of_classes:int):\n",
        "        self.layer1 = DenseLayer(num_of_features,4)\n",
        "        self.activation1 = Activation_ReLU()\n",
        "        self.output_layer = DenseLayer(4,num_of_classes)\n",
        "        self.output_activation = Activation_Sigmoid()\n",
        "        self.accuracy = Accuracy()\n",
        "        self.errors = [float('inf')] * num_of_classes\n",
        "\n",
        "    def forward_propagate(self,inputs):\n",
        "        self.layer1.forward(inputs)\n",
        "        self.activation1.forward(self.layer1.output)\n",
        "        self.output_layer.forward(self.activation1.output)\n",
        "        self.output_activation.forward(self.output_layer.output)\n",
        "        self.inputs = inputs\n",
        "\n",
        "    def loss_and_accuracy(self,output):\n",
        "        self.true_value = output\n",
        "        if self.output_activation.output.shape != output.shape:\n",
        "            one_hot_notation = torch.zeros(self.output_activation.output.shape)\n",
        "            one_hot_notation[range(len(self.output_activation.output)),output] = 1\n",
        "            self.true_value = one_hot_notation\n",
        "\n",
        "        loss = ((self.true_value - self.output_layer.output) ** 2) / 2\n",
        "        loss = torch.mean(loss)\n",
        "        accuracy = self.accuracy.forward(self.output_layer.output,self.true_value)\n",
        "        return loss, accuracy\n",
        "\n",
        "\n",
        "    def back_prop(self,lr):\n",
        "        errors = -(self.true_value - self.output_layer.output) # d(y-output)/d(output)\n",
        "        avg_errors = torch.sum(errors,keepdims=True,dim=0) / len(errors)\n",
        "        avg_errors = torch.squeeze(avg_errors)\n",
        "        avg_outputs = torch.sum(self.output_activation.output,keepdims=True,dim=0) / len(self.output_activation.output)\n",
        "        avg_outputs = torch.squeeze(avg_outputs)\n",
        "        avg_act1_outputs = torch.sum(self.activation1.output,keepdims=True,dim=0) / len(self.activation1.output)\n",
        "        avg_act1_outputs = torch.squeeze(avg_act1_outputs)\n",
        "        avg_inputs = torch.sum(self.inputs,keepdims=True,dim=0) / len(self.inputs)\n",
        "        avg_inputs = torch.squeeze(avg_inputs)\n",
        "        avg_layer1_output = torch.sum(self.layer1.output,keepdims=True,dim=0) / len(self.layer1.output)\n",
        "        avg_layer1_output = torch.squeeze(avg_layer1_output)\n",
        "        back = [None] * 4\n",
        "        for j in range(4):\n",
        "            back[j] = torch.tensor(lr) * avg_errors[j] * (avg_outputs[j] * (1-avg_outputs[j]))\n",
        "        # second layer\n",
        "        for i in range(4):\n",
        "            self.output_layer.bias[i] -= back[i]\n",
        "            for j in range(4):\n",
        "                self.output_layer.weights[i][j] -= back[j] * avg_act1_outputs[i]\n",
        "\n",
        "\n",
        "        #first layer\n",
        "        for j in range(4):\n",
        "            for k in range(4):\n",
        "                self.layer1.bias[j] -= back[j] * self.output_layer.weights[j][k] * (1 if avg_layer1_output[j]>0 else 0)\n",
        "                for i in range(2):\n",
        "                    self.layer1.weights[i][j] -= back[k] * self.output_layer.weights[j][k] * avg_inputs[i] * (1 if avg_layer1_output[j]>0 else 0)\n"
      ],
      "metadata": {
        "id": "060PytYAF0XJ"
      },
      "execution_count": 22,
      "outputs": []
    },
    {
      "cell_type": "code",
      "source": [
        "model = ClassificationModel(2,4)\n",
        "x = torch.tensor([[3,2],[3,4],[10,5],[4,5]],dtype=torch.float)\n",
        "y = torch.tensor([1,2,0,3])\n",
        "model.forward_propagate(x)\n",
        "model.loss_and_accuracy(y)\n",
        "\n",
        "loss = 0.1\n",
        "error = float('inf')\n",
        "iterations = 0\n",
        "while loss < error and iterations < 10000:\n",
        "    iterations += 1\n",
        "    model.back_prop(0.01)\n",
        "    model.forward_propagate(x)\n",
        "    error,acc = model.loss_and_accuracy(y)\n",
        "\n",
        "print(\"iterations:\",iterations)\n",
        "print(\"final output:\",model.output_layer.output)\n",
        "print(\"true vaues:\",model.true_value)\n",
        "print(\"accuracy:\",acc)\n",
        "print(\"final error:\",error)\n"
      ],
      "metadata": {
        "colab": {
          "base_uri": "https://localhost:8080/"
        },
        "id": "o6B4TJxaW91a",
        "outputId": "8c61bbc3-d6f6-4a00-ab1e-65d6e5467492"
      },
      "execution_count": 28,
      "outputs": [
        {
          "output_type": "stream",
          "name": "stdout",
          "text": [
            "iterations: 313\n",
            "final output: tensor([[ 0.2078,  0.6572,  0.5682,  0.0706],\n",
            "        [ 0.1598,  0.5136,  0.1056,  0.3318],\n",
            "        [ 0.4281,  0.5767,  0.4241,  0.2433],\n",
            "        [ 0.1779,  0.4535, -0.0488,  0.4160]])\n",
            "true vaues: tensor([[0., 1., 0., 0.],\n",
            "        [0., 0., 1., 0.],\n",
            "        [1., 0., 0., 0.],\n",
            "        [0., 0., 0., 1.]])\n",
            "accuracy: tensor(0.)\n",
            "final error: tensor(0.0990)\n"
          ]
        }
      ]
    }
  ]
}