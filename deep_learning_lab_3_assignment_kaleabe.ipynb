{
  "nbformat": 4,
  "nbformat_minor": 0,
  "metadata": {
    "colab": {
      "provenance": []
    },
    "kernelspec": {
      "name": "python3",
      "display_name": "Python 3"
    },
    "language_info": {
      "name": "python"
    }
  },
  "cells": [
    {
      "cell_type": "markdown",
      "source": [
        "# Activation Functions"
      ],
      "metadata": {
        "id": "T-l5W5RKeoVy"
      }
    },
    {
      "cell_type": "code",
      "source": [
        "import torch"
      ],
      "metadata": {
        "id": "01Api1OXlFoX"
      },
      "execution_count": 1,
      "outputs": []
    },
    {
      "cell_type": "code",
      "execution_count": 2,
      "metadata": {
        "id": "bG7qUnHLefz2"
      },
      "outputs": [],
      "source": [
        "class Activation_ReLU:\n",
        "    def forward(self,inputs):\n",
        "        self.output = torch.max(inputs,torch.tensor(0))\n",
        "        return self.output"
      ]
    },
    {
      "cell_type": "code",
      "source": [
        "class Activation_Softmax:\n",
        "    def forward(self,inputs):\n",
        "        pow = torch.exp(inputs - torch.max(inputs, axis=1, keepdims=True)[0])\n",
        "        summ = torch.sum(pow,axis=1,keepdims = True)\n",
        "        ans = pow / summ\n",
        "        self.output = ans\n",
        "        return ans"
      ],
      "metadata": {
        "id": "YjGaEW1pm3fr"
      },
      "execution_count": 3,
      "outputs": []
    },
    {
      "cell_type": "code",
      "source": [
        "class Activation_Sigmoid:\n",
        "    def forward(self,input):\n",
        "        self.output = 1 / (1 + torch.exp(-input))\n",
        "        return self.output"
      ],
      "metadata": {
        "id": "O_9Kod-7q74O"
      },
      "execution_count": 4,
      "outputs": []
    },
    {
      "cell_type": "code",
      "source": [
        "class Loss_Catagorical:\n",
        "    def forward(self,y_pred,y_true):\n",
        "        '''\n",
        "        takes two parameters y_pred:pytorch tensor the predicted outpurs\n",
        "        y_true: tensor as one hot notation or numbers as groups indexed from one\n",
        "        '''\n",
        "        if y_pred.shape !=  y_true.shape:\n",
        "            y_true -= 1\n",
        "            one_hot_notation = torch.zeros(y_pred.shape)\n",
        "            one_hot_notation[range(len(y_pred)),y_true] = 1\n",
        "        else:\n",
        "            one_hot_notation = y_pred\n",
        "        loss = -torch.sum(one_hot_notation * torch.log(y_pred)) / len(y_true)\n",
        "        self.output = loss\n",
        "        return loss\n",
        "\n"
      ],
      "metadata": {
        "id": "H2VmRc1AwkFE"
      },
      "execution_count": 5,
      "outputs": []
    },
    {
      "cell_type": "code",
      "source": [
        "class Accuracy:\n",
        "    def forward(self,y_pred,y_true):\n",
        "        if y_pred.shape != y_true.shape:\n",
        "            y_true -= 1\n",
        "            one_hot_notation = torch.zeros(y_pred.shape)\n",
        "            one_hot_notation[range(len(y_pred)),y_true] = 1\n",
        "        else:\n",
        "            one_hot_notation = y_true\n",
        "        correct_values = y_pred==one_hot_notation\n",
        "        correct_values = correct_values * one_hot_notation\n",
        "        self.output = torch.sum(correct_values) / len(y_pred)\n",
        "        return self.output"
      ],
      "metadata": {
        "id": "S4iUuYxPDRB3"
      },
      "execution_count": 6,
      "outputs": []
    },
    {
      "cell_type": "code",
      "source": [
        "class DenseLayer:\n",
        "\n",
        "    def __init__(self,n_features, n_neurons):\n",
        "        self.weights = torch.rand((n_features,n_neurons))\n",
        "        self.bias = torch.rand(n_neurons)\n",
        "\n",
        "    def forward(self,inputs):\n",
        "        self.output = torch.matmul(inputs,self.weights) + self.bias\n",
        "\n"
      ],
      "metadata": {
        "id": "4zd8zTzbdBOG"
      },
      "execution_count": 7,
      "outputs": []
    },
    {
      "cell_type": "markdown",
      "source": [
        "# Neural net with sigmoid activation"
      ],
      "metadata": {
        "id": "QYL8LqbSuuXm"
      }
    },
    {
      "cell_type": "code",
      "source": [
        "X = torch.rand((5,4)) # 50 instances with 4 features\n",
        "Y = torch.randint(1,4,(5,))\n",
        "\n",
        "layer1 = DenseLayer(4,18)\n",
        "layer1.forward(X)\n",
        "activation1 = Activation_Sigmoid()\n",
        "activation1.forward(layer1.output)\n",
        "\n",
        "layer2 = DenseLayer(18,18)\n",
        "layer2.forward(activation1.output)\n",
        "activation2 = Activation_Sigmoid()\n",
        "activation2.forward(layer2.output)\n",
        "\n",
        "layer3 = DenseLayer(18,18)\n",
        "layer3.forward(activation2.output)\n",
        "activation3 = Activation_Sigmoid()\n",
        "activation3.forward(layer3.output)\n",
        "\n",
        "output_layer = DenseLayer(18,3)\n",
        "output_layer.forward(activation3.output)\n",
        "output_activation = Activation_Softmax()\n",
        "output_activation.forward(output_layer.output)\n",
        "\n",
        "loss = Loss_Catagorical()\n",
        "loss.forward(output_activation.output,Y)\n",
        "\n",
        "accuracy = Accuracy()\n",
        "accuracy.forward(output_activation.output,Y)\n",
        "\n",
        "\n",
        "print(\"loss:\",loss.output)\n",
        "print(\"accuracy:\",accuracy.output)"
      ],
      "metadata": {
        "colab": {
          "base_uri": "https://localhost:8080/"
        },
        "id": "vJPDPWtVuxke",
        "outputId": "9bab1be0-39f8-4067-9b9c-9619a4f539d1"
      },
      "execution_count": 8,
      "outputs": [
        {
          "output_type": "stream",
          "name": "stdout",
          "text": [
            "loss: tensor(0.8590)\n",
            "accuracy: tensor(0.)\n"
          ]
        }
      ]
    },
    {
      "cell_type": "markdown",
      "source": [
        "# Neural net with activation ReLU"
      ],
      "metadata": {
        "id": "St-_JVrSyJQ4"
      }
    },
    {
      "cell_type": "code",
      "source": [
        "X = torch.rand((50,4)) # 50 instances with 4 features\n",
        "Y = torch.randint(1,4,(50,))\n",
        "\n",
        "layer1 = DenseLayer(4,18)\n",
        "layer1.forward(X)\n",
        "activation1 = Activation_ReLU()\n",
        "activation1.forward(layer1.output)\n",
        "\n",
        "layer2 = DenseLayer(18,18)\n",
        "layer2.forward(activation1.output)\n",
        "activation2 = Activation_ReLU()\n",
        "activation2.forward(layer2.output)\n",
        "\n",
        "layer3 = DenseLayer(18,18)\n",
        "layer3.forward(activation2.output)\n",
        "activation3 = Activation_ReLU()\n",
        "activation3.forward(layer3.output)\n",
        "\n",
        "output_layer = DenseLayer(18,3)\n",
        "output_layer.forward(activation3.output)\n",
        "output_activation = Activation_Softmax()\n",
        "output_activation.forward(output_layer.output)\n",
        "\n",
        "loss = Loss_Catagorical()\n",
        "loss.forward(output_activation.output,Y)\n",
        "\n",
        "loss.output\n",
        "\n",
        "accuracy = Accuracy()\n",
        "accuracy.forward(output_activation.output,Y)\n",
        "\n",
        "\n",
        "print(\"loss:\",loss.output)\n",
        "print(\"accuracy:\",accuracy.output)"
      ],
      "metadata": {
        "colab": {
          "base_uri": "https://localhost:8080/"
        },
        "id": "aaJRRwt_yN1b",
        "outputId": "9e77302d-a717-4b11-c1da-70204c16f4ca"
      },
      "execution_count": 10,
      "outputs": [
        {
          "output_type": "stream",
          "name": "stdout",
          "text": [
            "loss: tensor(nan)\n",
            "accuracy: tensor(0.3400)\n"
          ]
        }
      ]
    }
  ]
}